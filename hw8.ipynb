{
  "metadata": {
    "language_info": {
      "codemirror_mode": {
        "name": "python",
        "version": 3
      },
      "file_extension": ".py",
      "mimetype": "text/x-python",
      "name": "python",
      "nbconvert_exporter": "python",
      "pygments_lexer": "ipython3",
      "version": "3.8"
    },
    "kernelspec": {
      "name": "python",
      "display_name": "Python (Pyodide)",
      "language": "python"
    }
  },
  "nbformat_minor": 4,
  "nbformat": 4,
  "cells": [
    {
      "cell_type": "code",
      "source": "#Даны значения величины заработной платы заемщиков банка (zp) и значения их поведенческого кредитного скоринга (ks):\n#zp = [35, 45, 190, 200, 40, 70, 54, 150, 120, 110],\n#ks = [401, 574, 874, 919, 459, 739, 653, 902, 746, 832].\n#Найдите ковариацию этих двух величин с помощью элементарных действий, а затем с помощью функции cov из numpy\n#Полученные значения должны быть равны.\n#Найдите коэффициент корреляции Пирсона с помощью ковариации и среднеквадратичных отклонений двух признаков,а затем с использованием функций из библиотек numpy и pandas.",
      "metadata": {
        "trusted": true
      },
      "execution_count": 1,
      "outputs": []
    },
    {
      "cell_type": "code",
      "source": "import scipy.stats as stats\nimport numpy as np\nimport pandas as pd\nimport matplotlib.pyplot as plt\n\n%matplotlib inline",
      "metadata": {
        "trusted": true
      },
      "execution_count": 2,
      "outputs": []
    },
    {
      "cell_type": "code",
      "source": "zp = np.array([35, 45, 190, 200, 40, 70, 54, 150, 120, 110])\nks = np.array([401, 574, 874, 919, 459, 739, 653, 902, 746, 832])",
      "metadata": {
        "trusted": true
      },
      "execution_count": 3,
      "outputs": []
    },
    {
      "cell_type": "code",
      "source": "plt.scatter(zp,ks)\nplt.xlabel('Величина заработной платы')\nplt.ylabel('Поведенческий кредитный скоринг')\nplt.title('График зависимости')\nplt.show()",
      "metadata": {
        "trusted": true
      },
      "execution_count": 4,
      "outputs": [
        {
          "output_type": "display_data",
          "data": {
            "text/plain": "<pyolite.display.Image at 0x3ff3798>",
            "image/png": "[encoded data removed]"
          },
          "metadata": {}
        },
        {
          "output_type": "display_data",
          "data": {
            "text/plain": "<Figure size 640x480 with 0 Axes>"
          },
          "metadata": {}
        }
      ]
    },
    {
      "cell_type": "code",
      "source": "#Сильная линейная зависимость\n#Между данными существует выраженная положительная корреляция",
      "metadata": {
        "trusted": true
      },
      "execution_count": 5,
      "outputs": []
    },
    {
      "cell_type": "code",
      "source": "#Коэффициент ковариации:\ndef covar(zp, ks):\n    MXY=sum(zp*ks)/len(zp)\n    MX=sum(zp)/len(zp)\n    MY=sum(ks)/len(ks)\n    return MXY-MX*MY\nprint(f'Коэффициент ковариации: {covar(zp,ks): .3f}')",
      "metadata": {
        "trusted": true
      },
      "execution_count": 6,
      "outputs": [
        {
          "name": "stdout",
          "text": "Коэффициент ковариации:  9157.840\n",
          "output_type": "stream"
        }
      ]
    },
    {
      "cell_type": "code",
      "source": "#Функция cov библиотеки numpy:\n\ncov=np.mean(zp*ks)-np.mean(ks)*np.mean(zp)\n\ncov\n9157.84\n\nnp.cov(zp,ks)",
      "metadata": {
        "trusted": true
      },
      "execution_count": 7,
      "outputs": [
        {
          "execution_count": 7,
          "output_type": "execute_result",
          "data": {
            "text/plain": "array([[ 3882.93333333, 10175.37777778],\n       [10175.37777778, 33854.32222222]])"
          },
          "metadata": {}
        }
      ]
    },
    {
      "cell_type": "code",
      "source": "#Несмещенная ковариаця\nnp.cov(zp,ks, ddof = 1)",
      "metadata": {
        "trusted": true
      },
      "execution_count": 8,
      "outputs": [
        {
          "execution_count": 8,
          "output_type": "execute_result",
          "data": {
            "text/plain": "array([[ 3882.93333333, 10175.37777778],\n       [10175.37777778, 33854.32222222]])"
          },
          "metadata": {}
        }
      ]
    },
    {
      "cell_type": "code",
      "source": "np.std(zp, ddof=1), np.std(ks, ddof=1)",
      "metadata": {
        "trusted": true
      },
      "execution_count": 9,
      "outputs": [
        {
          "execution_count": 9,
          "output_type": "execute_result",
          "data": {
            "text/plain": "(62.31318747531162, 183.99544076477068)"
          },
          "metadata": {}
        }
      ]
    },
    {
      "cell_type": "code",
      "source": "cov_nk=10175.37777778/(183.99544076477068*62.31318747531162)\nprint(f'Коэффициент несмещенной ковариации: {cov_nk: .3f}')",
      "metadata": {
        "trusted": true
      },
      "execution_count": 10,
      "outputs": [
        {
          "name": "stdout",
          "text": "Коэффициент несмещенной ковариации:  0.887\n",
          "output_type": "stream"
        }
      ]
    },
    {
      "cell_type": "code",
      "source": "#Смещенная ковариаця\nnp.cov(zp,ks, ddof = 0)",
      "metadata": {
        "trusted": true
      },
      "execution_count": 11,
      "outputs": [
        {
          "execution_count": 11,
          "output_type": "execute_result",
          "data": {
            "text/plain": "array([[ 3494.64,  9157.84],\n       [ 9157.84, 30468.89]])"
          },
          "metadata": {}
        }
      ]
    },
    {
      "cell_type": "code",
      "source": "np.std(zp, ddof=0), np.std(ks, ddof=0)",
      "metadata": {
        "trusted": true
      },
      "execution_count": 12,
      "outputs": [
        {
          "execution_count": 12,
          "output_type": "execute_result",
          "data": {
            "text/plain": "(59.115480206118605, 174.55340157098058)"
          },
          "metadata": {}
        }
      ]
    },
    {
      "cell_type": "code",
      "source": "cov_sk=9157.84/(174.55340157098058*59.115480206118605)\nprint(f'Коэффициент смещенной ковариации: {cov_sk: .3f}')",
      "metadata": {
        "trusted": true
      },
      "execution_count": 13,
      "outputs": [
        {
          "name": "stdout",
          "text": "Коэффициент смещенной ковариации:  0.887\n",
          "output_type": "stream"
        }
      ]
    },
    {
      "cell_type": "code",
      "source": "#Коэффициент корреляции Пирсона\nnp.corrcoef(zp, ks)",
      "metadata": {
        "trusted": true
      },
      "execution_count": 14,
      "outputs": [
        {
          "execution_count": 14,
          "output_type": "execute_result",
          "data": {
            "text/plain": "array([[1.        , 0.88749009],\n       [0.88749009, 1.        ]])"
          },
          "metadata": {}
        }
      ]
    },
    {
      "cell_type": "code",
      "source": "#Функция corr библиотеки pandas:\ndf=pd.DataFrame(data={'zp':zp, 'ks':ks})\ndf",
      "metadata": {
        "trusted": true
      },
      "execution_count": 15,
      "outputs": [
        {
          "execution_count": 15,
          "output_type": "execute_result",
          "data": {
            "text/plain": "    zp   ks\n0   35  401\n1   45  574\n2  190  874\n3  200  919\n4   40  459\n5   70  739\n6   54  653\n7  150  902\n8  120  746\n9  110  832",
            "text/html": "<div>\n<style scoped>\n    .dataframe tbody tr th:only-of-type {\n        vertical-align: middle;\n    }\n\n    .dataframe tbody tr th {\n        vertical-align: top;\n    }\n\n    .dataframe thead th {\n        text-align: right;\n    }\n</style>\n<table border=\"1\" class=\"dataframe\">\n  <thead>\n    <tr style=\"text-align: right;\">\n      <th></th>\n      <th>zp</th>\n      <th>ks</th>\n    </tr>\n  </thead>\n  <tbody>\n    <tr>\n      <th>0</th>\n      <td>35</td>\n      <td>401</td>\n    </tr>\n    <tr>\n      <th>1</th>\n      <td>45</td>\n      <td>574</td>\n    </tr>\n    <tr>\n      <th>2</th>\n      <td>190</td>\n      <td>874</td>\n    </tr>\n    <tr>\n      <th>3</th>\n      <td>200</td>\n      <td>919</td>\n    </tr>\n    <tr>\n      <th>4</th>\n      <td>40</td>\n      <td>459</td>\n    </tr>\n    <tr>\n      <th>5</th>\n      <td>70</td>\n      <td>739</td>\n    </tr>\n    <tr>\n      <th>6</th>\n      <td>54</td>\n      <td>653</td>\n    </tr>\n    <tr>\n      <th>7</th>\n      <td>150</td>\n      <td>902</td>\n    </tr>\n    <tr>\n      <th>8</th>\n      <td>120</td>\n      <td>746</td>\n    </tr>\n    <tr>\n      <th>9</th>\n      <td>110</td>\n      <td>832</td>\n    </tr>\n  </tbody>\n</table>\n</div>"
          },
          "metadata": {}
        }
      ]
    },
    {
      "cell_type": "code",
      "source": "df.corr()",
      "metadata": {
        "trusted": true
      },
      "execution_count": 16,
      "outputs": [
        {
          "execution_count": 16,
          "output_type": "execute_result",
          "data": {
            "text/plain": "         zp       ks\nzp  1.00000  0.88749\nks  0.88749  1.00000",
            "text/html": "<div>\n<style scoped>\n    .dataframe tbody tr th:only-of-type {\n        vertical-align: middle;\n    }\n\n    .dataframe tbody tr th {\n        vertical-align: top;\n    }\n\n    .dataframe thead th {\n        text-align: right;\n    }\n</style>\n<table border=\"1\" class=\"dataframe\">\n  <thead>\n    <tr style=\"text-align: right;\">\n      <th></th>\n      <th>zp</th>\n      <th>ks</th>\n    </tr>\n  </thead>\n  <tbody>\n    <tr>\n      <th>zp</th>\n      <td>1.00000</td>\n      <td>0.88749</td>\n    </tr>\n    <tr>\n      <th>ks</th>\n      <td>0.88749</td>\n      <td>1.00000</td>\n    </tr>\n  </tbody>\n</table>\n</div>"
          },
          "metadata": {}
        }
      ]
    },
    {
      "cell_type": "code",
      "source": "#Вывод: Как было видно из графика, существует сильная линейная взаимосвязь между исходными данными.",
      "metadata": {
        "trusted": true
      },
      "execution_count": 17,
      "outputs": []
    },
    {
      "cell_type": "code",
      "source": "",
      "metadata": {},
      "execution_count": null,
      "outputs": []
    },
    {
      "cell_type": "code",
      "source": "#Измерены значения IQ выборки студентов, обучающихся в местных технических вузах:\n#131, 125, 115, 122, 131, 115, 107, 99, 125, 111.\n#Известно, что в генеральной совокупности IQ распределен нормально.\n#Найдите доверительный интервал для математического ожидания с надежностью 0.95.",
      "metadata": {
        "trusted": true
      },
      "execution_count": 18,
      "outputs": []
    },
    {
      "cell_type": "code",
      "source": "IQ=np.array([131, 125, 115, 122, 131, 115, 107, 99, 125, 111])\nprint(f'Среднее выборочное: {np.mean(IQ): .2f}\\n'\n      f'Размер выборки n={len(IQ)}\\n'\n      f'Среднее квадратическое отклонение по выборке(несмещенное): {np.std(IQ, ddof=1): .2f}'\n     )",
      "metadata": {
        "trusted": true
      },
      "execution_count": 19,
      "outputs": [
        {
          "name": "stdout",
          "text": "Среднее выборочное:  118.10\nРазмер выборки n=10\nСреднее квадратическое отклонение по выборке(несмещенное):  10.55\n",
          "output_type": "stream"
        }
      ]
    },
    {
      "cell_type": "code",
      "source": "def t_from_table(confidens, len_array):\n    alpha=(1-confidens)\n    return stats.t.ppf(1-alpha/2, len_array-1)\nprint(f'Табличное значение t-критерия для 95%-го доверительного интервала данной выборки: {t_from_table(0.95, len(IQ)): .3f}')",
      "metadata": {
        "trusted": true
      },
      "execution_count": 20,
      "outputs": [
        {
          "name": "stdout",
          "text": "Табличное значение t-критерия для 95%-го доверительного интервала данной выборки:  2.262\n",
          "output_type": "stream"
        }
      ]
    },
    {
      "cell_type": "code",
      "source": "def confidens_int(arr, confidens):\n    return round(np.mean(IQ)-t_from_table(confidens,len(IQ))*np.std(IQ, ddof=1)/len(IQ)**0.5,3), \\\n           round(np.mean(IQ)+t_from_table(confidens,len(IQ))*np.std(IQ, ddof=1)/len(IQ)**0.5,3)\n\nprint(f'95%-й доверительный интервал для истинного значения IQ: {confidens_int(IQ, 0.95)}')",
      "metadata": {
        "trusted": true
      },
      "execution_count": 21,
      "outputs": [
        {
          "name": "stdout",
          "text": "95%-й доверительный интервал для истинного значения IQ: (110.556, 125.644)\n",
          "output_type": "stream"
        }
      ]
    },
    {
      "cell_type": "code",
      "source": "",
      "metadata": {},
      "execution_count": null,
      "outputs": []
    },
    {
      "cell_type": "code",
      "source": "#Известно, что рост футболистов в сборной распределен нормально с дисперсией генеральной совокупности, равной 25 кв.см. \n#Объем выборки равен 27, среднее выборочное составляет 174.2. \n#Найдите доверительный интервал для математического ожидания с надежностью 0.95.",
      "metadata": {
        "trusted": true
      },
      "execution_count": 22,
      "outputs": []
    },
    {
      "cell_type": "code",
      "source": "left=174.2-(1.96*25**0.5)/27**0.5\nright=174.2+(1.96*25**0.5)/27**0.5\nprint(f'95%-й доверительный интервал для оценки мат. ожидания генеральной совокупности: [{left: .3f};{right: .3f}]')",
      "metadata": {
        "trusted": true
      },
      "execution_count": 23,
      "outputs": [
        {
          "name": "stdout",
          "text": "95%-й доверительный интервал для оценки мат. ожидания генеральной совокупности: [ 172.314; 176.086]\n",
          "output_type": "stream"
        }
      ]
    },
    {
      "cell_type": "code",
      "source": "",
      "metadata": {},
      "execution_count": null,
      "outputs": []
    }
  ]
}
